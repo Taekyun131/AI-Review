{
 "cells": [
  {
   "cell_type": "markdown",
   "id": "876af760",
   "metadata": {},
   "source": [
    "## 다중회귀: 여러 개의 특성을 사용한 선형회귀"
   ]
  },
  {
   "cell_type": "code",
   "execution_count": null,
   "id": "6cc27205",
   "metadata": {},
   "outputs": [
    {
     "name": "stdout",
     "output_type": "stream",
     "text": [
      "[[ 8.4   2.11  1.41]\n",
      " [13.7   3.53  2.  ]\n",
      " [15.    3.82  2.43]\n",
      " [16.2   4.59  2.63]\n",
      " [17.4   4.59  2.94]\n",
      " [18.    5.22  3.32]\n",
      " [18.7   5.2   3.12]\n",
      " [19.    5.64  3.05]\n",
      " [19.6   5.14  3.04]\n",
      " [20.    5.08  2.77]\n",
      " [21.    5.69  3.56]\n",
      " [21.    5.92  3.31]\n",
      " [21.    5.69  3.67]\n",
      " [21.3   6.38  3.53]\n",
      " [22.    6.11  3.41]\n",
      " [22.    5.64  3.52]\n",
      " [22.    6.11  3.52]\n",
      " [22.    5.88  3.52]\n",
      " [22.    5.52  4.  ]\n",
      " [22.5   5.86  3.62]\n",
      " [22.5   6.79  3.62]\n",
      " [22.7   5.95  3.63]\n",
      " [23.    5.22  3.63]\n",
      " [23.5   6.28  3.72]\n",
      " [24.    7.29  3.72]\n",
      " [24.    6.38  3.82]\n",
      " [24.6   6.73  4.17]\n",
      " [25.    6.44  3.68]\n",
      " [25.6   6.56  4.24]\n",
      " [26.5   7.17  4.14]\n",
      " [27.3   8.32  5.14]\n",
      " [27.5   7.17  4.34]\n",
      " [27.5   7.05  4.34]\n",
      " [27.5   7.28  4.57]\n",
      " [28.    7.82  4.2 ]\n",
      " [28.7   7.59  4.64]\n",
      " [30.    7.62  4.77]\n",
      " [32.8  10.03  6.02]\n",
      " [34.5  10.26  6.39]\n",
      " [35.   11.49  7.8 ]\n",
      " [36.5  10.88  6.86]\n",
      " [36.   10.61  6.74]\n",
      " [37.   10.84  6.26]\n",
      " [37.   10.57  6.37]\n",
      " [39.   11.14  7.49]\n",
      " [39.   11.14  6.  ]\n",
      " [39.   12.43  7.35]\n",
      " [40.   11.93  7.11]\n",
      " [40.   11.73  7.22]\n",
      " [40.   12.38  7.46]\n",
      " [40.   11.14  6.63]\n",
      " [42.   12.8   6.87]\n",
      " [43.   11.93  7.28]\n",
      " [43.   12.51  7.42]\n",
      " [43.5  12.6   8.14]\n",
      " [44.   12.49  7.6 ]]\n"
     ]
    }
   ],
   "source": [
    "# 다차원 배열을 다루기 위해 pandas 사용\n",
    "import pandas as pd\n",
    "df=pd.read_csv('https://bit.ly/perch_csv_data')\n",
    "perch_full=df.to_numpy()\n",
    "print(perch_full)"
   ]
  },
  {
   "cell_type": "code",
   "execution_count": 3,
   "id": "5d3d59f3",
   "metadata": {},
   "outputs": [],
   "source": [
    "# 타깃 데이터 준비\n",
    "import numpy as np\n",
    "perch_weight = np.array([5.9, 32.0, 40.0, 51.5, 70.0, 100.0, 78.0, 80.0, 85.0, 85.0, 110.0,\n",
    "       115.0, 125.0, 130.0, 120.0, 120.0, 130.0, 135.0, 110.0, 130.0,\n",
    "       150.0, 145.0, 150.0, 170.0, 225.0, 145.0, 188.0, 180.0, 197.0,\n",
    "       218.0, 300.0, 260.0, 265.0, 250.0, 250.0, 300.0, 320.0, 514.0,\n",
    "       556.0, 840.0, 685.0, 700.0, 700.0, 690.0, 900.0, 650.0, 820.0,\n",
    "       850.0, 900.0, 1015.0, 820.0, 1100.0, 1000.0, 1100.0, 1000.0,\n",
    "       1000.0])"
   ]
  },
  {
   "cell_type": "code",
   "execution_count": 4,
   "id": "a63a8d6b",
   "metadata": {},
   "outputs": [],
   "source": [
    "# 훈련세트와 테스트세트로 구분\n",
    "from sklearn.model_selection import train_test_split\n",
    "train_input, test_input, train_target, test_target=train_test_split(perch_full, perch_weight, random_state=42)"
   ]
  },
  {
   "cell_type": "markdown",
   "id": "8b3ab9fe",
   "metadata": {},
   "source": [
    "### 변환기 - 사이킷런에서 제공하는 특성을 만들거나 전처리하기 위한 클래스"
   ]
  },
  {
   "cell_type": "code",
   "execution_count": null,
   "id": "06b67120",
   "metadata": {},
   "outputs": [
    {
     "name": "stdout",
     "output_type": "stream",
     "text": [
      "[[1. 2. 3. 4. 6. 9.]]\n"
     ]
    }
   ],
   "source": [
    "# 변환기 사용 예시\n",
    "from sklearn.preprocessing import PolynomialFeatures\n",
    "poly=PolynomialFeatures()\n",
    "poly.fit([[2, 3]])\n",
    "print(poly.transform([[2, 3]]))"
   ]
  },
  {
   "cell_type": "code",
   "execution_count": 8,
   "id": "07bd6d8e",
   "metadata": {},
   "outputs": [
    {
     "name": "stdout",
     "output_type": "stream",
     "text": [
      "[[2. 3. 4. 6. 9.]]\n"
     ]
    }
   ],
   "source": [
    "# 특성에서 1 제외\n",
    "poly=PolynomialFeatures(include_bias=False)\n",
    "poly.fit([[2, 3]])\n",
    "print(poly.transform([[2, 3]]))"
   ]
  },
  {
   "cell_type": "code",
   "execution_count": null,
   "id": "c904d29a",
   "metadata": {},
   "outputs": [
    {
     "name": "stdout",
     "output_type": "stream",
     "text": [
      "(42, 9)\n"
     ]
    }
   ],
   "source": [
    "# 훈련 데이터에 적용\n",
    "poly=PolynomialFeatures(include_bias=False)\n",
    "poly.fit(train_input)\n",
    "train_poly=poly.transform(train_input)\n",
    "print(train_poly.shape)"
   ]
  },
  {
   "cell_type": "code",
   "execution_count": null,
   "id": "25fa9b91",
   "metadata": {},
   "outputs": [
    {
     "name": "stdout",
     "output_type": "stream",
     "text": [
      "['x0' 'x1' 'x2' 'x0^2' 'x0 x1' 'x0 x2' 'x1^2' 'x1 x2' 'x2^2']\n"
     ]
    }
   ],
   "source": [
    "# 데이터의 조합 확인\n",
    "print(poly.get_feature_names_out())     # x0: 첫번째 특성, x1: 두번째 특성, x2: 세번째 특성"
   ]
  },
  {
   "cell_type": "code",
   "execution_count": 12,
   "id": "ed6f6d3c",
   "metadata": {},
   "outputs": [],
   "source": [
    "# 테스트 세트 변환\n",
    "test_poly=poly.transform(test_input)"
   ]
  },
  {
   "cell_type": "code",
   "execution_count": 14,
   "id": "55f0154c",
   "metadata": {},
   "outputs": [
    {
     "name": "stdout",
     "output_type": "stream",
     "text": [
      "0.9903183436982126\n"
     ]
    }
   ],
   "source": [
    "# 다중회귀모델 훈련\n",
    "from sklearn.linear_model import LinearRegression\n",
    "lr=LinearRegression()\n",
    "lr.fit(train_poly, train_target)\n",
    "print(lr.score(train_poly, train_target))"
   ]
  },
  {
   "cell_type": "code",
   "execution_count": null,
   "id": "ef9f2d17",
   "metadata": {},
   "outputs": [
    {
     "name": "stdout",
     "output_type": "stream",
     "text": [
      "0.9714559911594125\n"
     ]
    }
   ],
   "source": [
    "# 테스트 세트에 대한 점수\n",
    "print(lr.score(test_poly, test_target))     # 길이만 훈련했을 때의 과소적합 문제 해결"
   ]
  },
  {
   "cell_type": "code",
   "execution_count": 19,
   "id": "8df89d77",
   "metadata": {},
   "outputs": [
    {
     "name": "stdout",
     "output_type": "stream",
     "text": [
      "(42, 55)\n"
     ]
    }
   ],
   "source": [
    "# 특성 추가\n",
    "poly=PolynomialFeatures(degree=5, include_bias=False)\n",
    "poly.fit(train_input)\n",
    "train_poly=poly.transform(train_input)\n",
    "test_poly=poly.transform(test_input)\n",
    "print(train_poly.shape)"
   ]
  },
  {
   "cell_type": "code",
   "execution_count": 20,
   "id": "47530e01",
   "metadata": {},
   "outputs": [
    {
     "name": "stdout",
     "output_type": "stream",
     "text": [
      "0.9999999999997232\n"
     ]
    }
   ],
   "source": [
    "# 선형회귀모델 훈련\n",
    "lr.fit(train_poly, train_target)\n",
    "print(lr.score(train_poly, train_target))"
   ]
  },
  {
   "cell_type": "code",
   "execution_count": null,
   "id": "38a04fc9",
   "metadata": {},
   "outputs": [
    {
     "name": "stdout",
     "output_type": "stream",
     "text": [
      "-144.40564483377855\n"
     ]
    }
   ],
   "source": [
    "# 테스트 세트 점수\n",
    "print(lr.score(test_poly, test_target))     # 과대적합 문제발생"
   ]
  },
  {
   "cell_type": "markdown",
   "id": "0aabb611",
   "metadata": {},
   "source": [
    "### 규제: 훈련 세트를 과도하게 학습하지 못하도록 만드는 과정"
   ]
  },
  {
   "cell_type": "code",
   "execution_count": 22,
   "id": "30902b9a",
   "metadata": {},
   "outputs": [],
   "source": [
    "# 선형회귀모델 규제를 위해 정규화\n",
    "from sklearn.preprocessing import StandardScaler\n",
    "ss=StandardScaler()\n",
    "ss.fit(train_poly)\n",
    "train_scaled=ss.transform(train_poly)\n",
    "test_scaled=ss.transform(test_poly)"
   ]
  },
  {
   "cell_type": "markdown",
   "id": "c87c5503",
   "metadata": {},
   "source": [
    "#### 릿지 회귀- 계수를 제곱한 값을 기준으로 규제적용"
   ]
  },
  {
   "cell_type": "code",
   "execution_count": null,
   "id": "9832fa08",
   "metadata": {},
   "outputs": [
    {
     "name": "stdout",
     "output_type": "stream",
     "text": [
      "0.9896101671037343\n"
     ]
    }
   ],
   "source": [
    "# 릿지 회귀\n",
    "from sklearn.linear_model import Ridge\n",
    "ridge=Ridge()\n",
    "ridge.fit(train_scaled, train_target)\n",
    "print(ridge.score(train_scaled, train_target))"
   ]
  },
  {
   "cell_type": "code",
   "execution_count": 24,
   "id": "c37c0506",
   "metadata": {},
   "outputs": [
    {
     "name": "stdout",
     "output_type": "stream",
     "text": [
      "0.9790693977615387\n"
     ]
    }
   ],
   "source": [
    "# 테스트 세트 점수\n",
    "print(ridge.score(test_scaled, test_target))"
   ]
  },
  {
   "cell_type": "code",
   "execution_count": 26,
   "id": "ae01e5cf",
   "metadata": {},
   "outputs": [],
   "source": [
    "# 적절한 하이퍼파라미터를 얻기 위해 alpha값에 대한 R2점수 그래프 출력\n",
    "import matplotlib.pyplot as plt\n",
    "train_score=[]\n",
    "test_score=[]\n",
    "\n",
    "alpha_list=[0.001, 0.01, 0.1, 1, 10, 100]\n",
    "for alpha in alpha_list:\n",
    "    # 릿지모델 생성\n",
    "    ridge=Ridge(alpha=alpha)\n",
    "    \n",
    "    # 모델 훈련\n",
    "    ridge.fit(train_scaled, train_target)\n",
    "    \n",
    "    # 훈련 점수와 테스트 점수 저장\n",
    "    train_score.append(ridge.score(train_scaled, train_target))\n",
    "    test_score.append(ridge.score(test_scaled, test_target))"
   ]
  },
  {
   "cell_type": "code",
   "execution_count": 29,
   "id": "fe449581",
   "metadata": {},
   "outputs": [
    {
     "data": {
      "image/png": "[encoded data removed]",
      "text/plain": [
       "<Figure size 640x480 with 1 Axes>"
      ]
     },
     "metadata": {},
     "output_type": "display_data"
    }
   ],
   "source": [
    "# 그래프 출력\n",
    "plt.plot(np.log10(alpha_list), train_score)\n",
    "plt.plot(np.log10(alpha_list), test_score)\n",
    "plt.xlabel('alpha')\n",
    "plt.ylabel('R2')\n",
    "plt.show()"
   ]
  },
  {
   "cell_type": "code",
   "execution_count": 30,
   "id": "6d343a75",
   "metadata": {},
   "outputs": [
    {
     "name": "stdout",
     "output_type": "stream",
     "text": [
      "0.9903815817570367\n",
      "0.9827976465386928\n"
     ]
    }
   ],
   "source": [
    "# 두 그래프가 가장 가까운 -1일 때 alpha값으로 훈련\n",
    "ridge=Ridge(alpha=0.1)\n",
    "ridge.fit(train_scaled, train_target)\n",
    "print(ridge.score(train_scaled, train_target))\n",
    "print(ridge.score(test_scaled, test_target))"
   ]
  },
  {
   "cell_type": "markdown",
   "id": "e2ed45ab",
   "metadata": {},
   "source": [
    "#### 라쏘 회귀- 계수의 절댓값을 기준으로 규제를 적용"
   ]
  },
  {
   "cell_type": "code",
   "execution_count": 31,
   "id": "32429532",
   "metadata": {},
   "outputs": [
    {
     "name": "stdout",
     "output_type": "stream",
     "text": [
      "0.989789897208096\n"
     ]
    }
   ],
   "source": [
    "from sklearn.linear_model import Lasso\n",
    "lasso=Lasso()\n",
    "lasso.fit(train_scaled, train_target)\n",
    "print(lasso.score(train_scaled, train_target))"
   ]
  },
  {
   "cell_type": "code",
   "execution_count": 32,
   "id": "216c3289",
   "metadata": {},
   "outputs": [
    {
     "name": "stdout",
     "output_type": "stream",
     "text": [
      "0.9800593698421883\n"
     ]
    }
   ],
   "source": [
    "# 테스트 세트 점수\n",
    "print(lasso.score(test_scaled, test_target))"
   ]
  },
  {
   "cell_type": "code",
   "execution_count": 33,
   "id": "ba3c1058",
   "metadata": {},
   "outputs": [
    {
     "name": "stderr",
     "output_type": "stream",
     "text": [
      "c:\\Python310\\lib\\site-packages\\sklearn\\linear_model\\_coordinate_descent.py:695: ConvergenceWarning: Objective did not converge. You might want to increase the number of iterations, check the scale of the features or consider increasing regularisation. Duality gap: 1.878e+04, tolerance: 5.183e+02\n",
      "  model = cd_fast.enet_coordinate_descent(\n",
      "c:\\Python310\\lib\\site-packages\\sklearn\\linear_model\\_coordinate_descent.py:695: ConvergenceWarning: Objective did not converge. You might want to increase the number of iterations, check the scale of the features or consider increasing regularisation. Duality gap: 1.297e+04, tolerance: 5.183e+02\n",
      "  model = cd_fast.enet_coordinate_descent(\n"
     ]
    }
   ],
   "source": [
    "# 적절한 하이퍼파라미터를 얻기 위해 alpha값에 대한 R2점수 그래프 출력\n",
    "\n",
    "train_score=[]\n",
    "test_score=[]\n",
    "alpha_list=[0.001, 0.01, 0.1, 1, 10, 100]\n",
    "for alpha in alpha_list:\n",
    "    # 라쏘 모델 생성\n",
    "    lasso=Lasso(alpha=alpha, max_iter=10000)\n",
    "    \n",
    "    # 모델 훈련\n",
    "    lasso.fit(train_scaled, train_target)\n",
    "    \n",
    "    # 훈련 점수와 테스트 점수 저장\n",
    "    train_score.append(lasso.score(train_scaled, train_target))\n",
    "    test_score.append(lasso.score(test_scaled, test_target))"
   ]
  },
  {
   "cell_type": "code",
   "execution_count": 35,
   "id": "1492108a",
   "metadata": {},
   "outputs": [
    {
     "data": {
      "image/png": "[encoded data removed]",
      "text/plain": [
       "<Figure size 640x480 with 1 Axes>"
      ]
     },
     "metadata": {},
     "output_type": "display_data"
    }
   ],
   "source": [
    "# 그래프 출력\n",
    "plt.plot(np.log10(alpha_list), train_score)\n",
    "plt.plot(np.log10(alpha_list), test_score)\n",
    "plt.xlabel('alpha')\n",
    "plt.ylabel('R2')\n",
    "plt.show()"
   ]
  },
  {
   "cell_type": "code",
   "execution_count": 37,
   "id": "3abf038f",
   "metadata": {},
   "outputs": [
    {
     "name": "stdout",
     "output_type": "stream",
     "text": [
      "0.9888067471131867\n",
      "0.9824470598706695\n"
     ]
    }
   ],
   "source": [
    "# 최적의 alpha값인 10으로 훈련\n",
    "lasso=Lasso(alpha=10)\n",
    "lasso.fit(train_scaled, train_target)\n",
    "print(lasso.score(train_scaled, train_target))\n",
    "print(lasso.score(test_scaled, test_target))"
   ]
  },
  {
   "cell_type": "code",
   "execution_count": null,
   "id": "3356d0b2",
   "metadata": {},
   "outputs": [
    {
     "name": "stdout",
     "output_type": "stream",
     "text": [
      "40\n"
     ]
    }
   ],
   "source": [
    "# 라쏘 모델의 계수 중 0인 개수 출력\n",
    "print(np.sum(lasso.coef_==0))       ## 55개의 특성 중 40개가 0이고, 15개만 사용됨"
   ]
  }
 ],
 "metadata": {
  "kernelspec": {
   "display_name": "Python 3",
   "language": "python",
   "name": "python3"
  },
  "language_info": {
   "codemirror_mode": {
    "name": "ipython",
    "version": 3
   },
   "file_extension": ".py",
   "mimetype": "text/x-python",
   "name": "python",
   "nbconvert_exporter": "python",
   "pygments_lexer": "ipython3",
   "version": "3.10.6"
  }
 },
 "nbformat": 4,
 "nbformat_minor": 5
}
