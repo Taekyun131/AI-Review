{
 "cells": [
  {
   "cell_type": "markdown",
   "id": "a95bdbe3",
   "metadata": {},
   "source": [
    "## 합성곱 신경망의 구성요소"
   ]
  },
  {
   "cell_type": "markdown",
   "id": "4c4cd8fd",
   "metadata": {},
   "source": [
    "### 합성곱 - 경사 하강법 알고리즘을 사용해 각 뉴런마다 손실이 낮아지도록 하는 최적의 가중치와 절편을 찾는 과정"
   ]
  },
  {
   "cell_type": "markdown",
   "id": "bfb5fc70",
   "metadata": {},
   "source": [
    "### 특성맵 - 합성곱 계산을 통해 얻은 출력"
   ]
  },
  {
   "cell_type": "markdown",
   "id": "25f6a78c",
   "metadata": {},
   "source": [
    "### 케라스 합성곱 층\n",
    "- 패딩: 입력 배열 주위를 가상의 원소로 채움\n",
    "- 스트라이드: 모델 학습 시 필터의 이동의 크기\n",
    "- 풀링: 합성곱 층에서 만든 특성 맵의 가로세로 크기를 줄이는 역할"
   ]
  }
 ],
 "metadata": {
  "kernelspec": {
   "display_name": "Python 3",
   "language": "python",
   "name": "python3"
  },
  "language_info": {
   "name": "python",
   "version": "3.10.6"
  }
 },
 "nbformat": 4,
 "nbformat_minor": 5
}
