{
 "cells": [
  {
   "cell_type": "markdown",
   "id": "cdf068b0",
   "metadata": {},
   "source": [
    "## 트리의 앙상블"
   ]
  },
  {
   "cell_type": "markdown",
   "id": "4718f673",
   "metadata": {},
   "source": [
    "#### 정형 데이터 - 미리 정해진 구조에 따라 저장된 데이터 (표로 저장 가능)\n",
    "#### 비정형 데이터 - 구조가 정해지지 않은 데이터"
   ]
  },
  {
   "cell_type": "markdown",
   "id": "408f8db7",
   "metadata": {},
   "source": [
    "### 랜덤 포레스트 - 다수의 결정 트리 중 중복을 허용하여 데이터를 샘플링해 최종 예측"
   ]
  },
  {
   "cell_type": "code",
   "execution_count": 1,
   "id": "768a90fc",
   "metadata": {},
   "outputs": [],
   "source": [
    "# 데이터 생성 및 분할\n",
    "import numpy as np\n",
    "import pandas as pd\n",
    "from sklearn.model_selection import train_test_split\n",
    "\n",
    "wine=pd.read_csv('https://bit.ly/wine_csv_data')\n",
    "data=wine[['alcohol', 'sugar', 'pH']].to_numpy()\n",
    "target=wine['class'].to_numpy()\n",
    "train_input, test_input, train_target, test_target=train_test_split(data, target, test_size=0.2, random_state=42)\n"
   ]
  },
  {
   "cell_type": "code",
   "execution_count": null,
   "id": "0dbc407b",
   "metadata": {},
   "outputs": [
    {
     "name": "stdout",
     "output_type": "stream",
     "text": [
      "0.9973541965122431 0.8905151032797809\n"
     ]
    }
   ],
   "source": [
    "# 교차 검증\n",
    "from sklearn.model_selection import cross_validate\n",
    "from sklearn.ensemble import RandomForestClassifier\n",
    "rf=RandomForestClassifier(n_jobs=-1, random_state=42)   # n_jobs=-1: 기본적으로 100개의 결정 트리를 사용하므로 모든 cpu코어 사용\n",
    "scores=cross_validate(rf, train_input, train_target, return_train_score=True, n_jobs=-1)    # return_train_score=True: 훈련 세트에 대한 점수도 반환\n",
    "print(np.mean(scores['train_score']), np.mean(scores['test_score']))    # 과대적합"
   ]
  },
  {
   "cell_type": "code",
   "execution_count": 3,
   "id": "57823ea7",
   "metadata": {},
   "outputs": [
    {
     "name": "stdout",
     "output_type": "stream",
     "text": [
      "[0.23167441 0.50039841 0.26792718]\n"
     ]
    }
   ],
   "source": [
    "# 특성 중요도 출력\n",
    "rf.fit(train_input, train_target)\n",
    "print(rf.feature_importances_)"
   ]
  },
  {
   "cell_type": "code",
   "execution_count": 4,
   "id": "e7ba05ad",
   "metadata": {},
   "outputs": [
    {
     "name": "stdout",
     "output_type": "stream",
     "text": [
      "0.8934000384837406\n"
     ]
    }
   ],
   "source": [
    "# 선택되지 않은 샘플로 훈련한 결정트리 점수 OOB 출력\n",
    "rf=RandomForestClassifier(oob_score=True, n_jobs=-1, random_state=42)\n",
    "rf.fit(train_input, train_target)\n",
    "print(rf.oob_score_)"
   ]
  },
  {
   "cell_type": "markdown",
   "id": "f933e529",
   "metadata": {},
   "source": [
    "### 엑스트라 트리 - 랜덤 포레스트와 비슷하지만 노드 분할 시 무작위로 분할"
   ]
  },
  {
   "cell_type": "code",
   "execution_count": null,
   "id": "42acbe77",
   "metadata": {},
   "outputs": [
    {
     "name": "stdout",
     "output_type": "stream",
     "text": [
      "0.9974503966084433 0.8887848893166506\n"
     ]
    }
   ],
   "source": [
    "# 엑스트라 트리 모델\n",
    "from sklearn.ensemble import ExtraTreesClassifier\n",
    "et=ExtraTreesClassifier(n_jobs=-1, random_state=42)\n",
    "scores=cross_validate(et, train_input, train_target, return_train_score=True, n_jobs=-1)\n",
    "print(np.mean(scores['train_score']), np.mean(scores['test_score']))"
   ]
  },
  {
   "cell_type": "code",
   "execution_count": 6,
   "id": "ee0afca6",
   "metadata": {},
   "outputs": [
    {
     "name": "stdout",
     "output_type": "stream",
     "text": [
      "[0.20183568 0.52242907 0.27573525]\n"
     ]
    }
   ],
   "source": [
    "# 모델의 특성 중요도\n",
    "et.fit(train_input, train_target)\n",
    "print(et.feature_importances_)"
   ]
  },
  {
   "cell_type": "markdown",
   "id": "70fcb37d",
   "metadata": {},
   "source": [
    "### 그레이디언트 부스팅 - 깊이가 얕은 결정 트리를 사용하여 이전 트리의 오차를 보완"
   ]
  },
  {
   "cell_type": "code",
   "execution_count": null,
   "id": "95f6c20c",
   "metadata": {},
   "outputs": [
    {
     "name": "stdout",
     "output_type": "stream",
     "text": [
      "0.8881086892152563 0.8720430147331015\n"
     ]
    }
   ],
   "source": [
    "# 교차 검증 점수 확인\n",
    "from sklearn.ensemble import GradientBoostingClassifier\n",
    "gb=GradientBoostingClassifier(random_state=42)\n",
    "scores=cross_validate(gb, train_input, train_target, return_train_score=True, n_jobs=-1)\n",
    "print(np.mean(scores['train_score']), np.mean(scores['test_score']))    # 그레이디언트 부스팅은 과대적합에 강함"
   ]
  },
  {
   "cell_type": "code",
   "execution_count": 8,
   "id": "a625ecfb",
   "metadata": {},
   "outputs": [
    {
     "name": "stdout",
     "output_type": "stream",
     "text": [
      "0.9464595437171814 0.8780082549788999\n"
     ]
    }
   ],
   "source": [
    "# 트리의 개수 증가\n",
    "gb=GradientBoostingClassifier(n_estimators=500, learning_rate=0.2, random_state=42)\n",
    "scores=cross_validate(gb, train_input, train_target, return_train_score=True, n_jobs=-1)\n",
    "print(np.mean(scores['train_score']), np.mean(scores['test_score']))"
   ]
  },
  {
   "cell_type": "code",
   "execution_count": 9,
   "id": "a431253c",
   "metadata": {},
   "outputs": [
    {
     "name": "stdout",
     "output_type": "stream",
     "text": [
      "[0.15882696 0.6799705  0.16120254]\n"
     ]
    }
   ],
   "source": [
    "# 모델의 특성 중요도\n",
    "gb.fit(train_input, train_target)\n",
    "print(gb.feature_importances_)"
   ]
  },
  {
   "cell_type": "markdown",
   "id": "cfeba40c",
   "metadata": {},
   "source": [
    "### 히스토그램 기반 그레이디언트 부스팅 - 훈련 데이터를 256개의 구간으로 변환하여 분할 속도가 빠름"
   ]
  },
  {
   "cell_type": "code",
   "execution_count": 10,
   "id": "29b1837b",
   "metadata": {},
   "outputs": [
    {
     "name": "stderr",
     "output_type": "stream",
     "text": [
      "c:\\Python310\\lib\\site-packages\\sklearn\\experimental\\enable_hist_gradient_boosting.py:19: UserWarning: Since version 1.0, it is not needed to import enable_hist_gradient_boosting anymore. HistGradientBoostingClassifier and HistGradientBoostingRegressor are now stable and can be normally imported from sklearn.ensemble.\n",
      "  warnings.warn(\n"
     ]
    },
    {
     "name": "stdout",
     "output_type": "stream",
     "text": [
      "0.9321723946453317 0.8801241948619236\n"
     ]
    }
   ],
   "source": [
    "# 교차 검증 점수\n",
    "from sklearn.experimental import enable_hist_gradient_boosting\n",
    "from sklearn.ensemble import HistGradientBoostingClassifier\n",
    "hgb=HistGradientBoostingClassifier(random_state=42)\n",
    "scores=cross_validate(hgb, train_input, train_target, return_train_score=True)\n",
    "print(np.mean(scores['train_score']), np.mean(scores['test_score']))"
   ]
  },
  {
   "cell_type": "code",
   "execution_count": 11,
   "id": "2fe8da0c",
   "metadata": {},
   "outputs": [
    {
     "name": "stdout",
     "output_type": "stream",
     "text": [
      "[0.08876275 0.23438522 0.08027708]\n"
     ]
    }
   ],
   "source": [
    "# 특성 중요도\n",
    "from sklearn.inspection import permutation_importance\n",
    "hgb.fit(train_input, train_target)\n",
    "result=permutation_importance(hgb, train_input, train_target, n_repeats=10, random_state=42, n_jobs=-1)\n",
    "print(result.importances_mean)"
   ]
  },
  {
   "cell_type": "code",
   "execution_count": 12,
   "id": "104a5419",
   "metadata": {},
   "outputs": [
    {
     "name": "stdout",
     "output_type": "stream",
     "text": [
      "[0.05969231 0.20238462 0.049     ]\n"
     ]
    }
   ],
   "source": [
    "# 테스트 세트에서 특성 중요도\n",
    "result=permutation_importance(hgb, test_input, test_target, n_repeats=10, random_state=42, n_jobs=-1)\n",
    "print(result.importances_mean)"
   ]
  },
  {
   "cell_type": "code",
   "execution_count": 13,
   "id": "eaee4063",
   "metadata": {},
   "outputs": [
    {
     "name": "stdout",
     "output_type": "stream",
     "text": [
      "0.8723076923076923\n"
     ]
    }
   ],
   "source": [
    "# 정확도 출력\n",
    "print(hgb.score(test_input, test_target))"
   ]
  },
  {
   "cell_type": "code",
   "execution_count": 15,
   "id": "68ea2a85",
   "metadata": {},
   "outputs": [
    {
     "name": "stdout",
     "output_type": "stream",
     "text": [
      "0.9567059184812372 0.8783915747390243\n"
     ]
    }
   ],
   "source": [
    "# XGBoost를 사용한 교차 검증 점수\n",
    "from xgboost import XGBClassifier\n",
    "xgb=XGBClassifier(tree_method='hist', random_state=42)\n",
    "scores=cross_validate(xgb, train_input, train_target, return_train_score=True)\n",
    "print(np.mean(scores['train_score']), np.mean(scores['test_score']))"
   ]
  },
  {
   "cell_type": "code",
   "execution_count": 17,
   "id": "3f257e27",
   "metadata": {},
   "outputs": [
    {
     "name": "stdout",
     "output_type": "stream",
     "text": [
      "0.935828414851749 0.8801251203079884\n"
     ]
    }
   ],
   "source": [
    "# LightGBM을 사용한 교차 검증 점수\n",
    "from lightgbm import LGBMClassifier\n",
    "lgb=LGBMClassifier(random_state=42)\n",
    "scores=cross_validate(lgb, train_input, train_target, return_train_score=True, n_jobs=-1)\n",
    "print(np.mean(scores['train_score']), np.mean(scores['test_score']))"
   ]
  }
 ],
 "metadata": {
  "kernelspec": {
   "display_name": "Python 3",
   "language": "python",
   "name": "python3"
  },
  "language_info": {
   "codemirror_mode": {
    "name": "ipython",
    "version": 3
   },
   "file_extension": ".py",
   "mimetype": "text/x-python",
   "name": "python",
   "nbconvert_exporter": "python",
   "pygments_lexer": "ipython3",
   "version": "3.10.6"
  }
 },
 "nbformat": 4,
 "nbformat_minor": 5
}
